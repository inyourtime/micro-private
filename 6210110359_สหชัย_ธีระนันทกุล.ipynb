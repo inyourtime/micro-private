{
  "nbformat": 4,
  "nbformat_minor": 0,
  "metadata": {
    "colab": {
      "name": "6210110359 สหชัย ธีระนันทกุล.ipynb",
      "provenance": [],
      "collapsed_sections": []
    },
    "kernelspec": {
      "name": "python3",
      "display_name": "Python 3"
    },
    "language_info": {
      "name": "python"
    }
  },
  "cells": [
    {
      "cell_type": "markdown",
      "metadata": {
        "id": "NJ0eTQINQElu"
      },
      "source": [
        "# Main Lab"
      ]
    },
    {
      "cell_type": "code",
      "metadata": {
        "id": "OUFLKSNqfcGb"
      },
      "source": [
        "import pandas as pd"
      ],
      "execution_count": 22,
      "outputs": []
    },
    {
      "cell_type": "code",
      "metadata": {
        "id": "OU9-2eW1hNzO",
        "colab": {
          "base_uri": "https://localhost:8080/",
          "height": 142
        },
        "outputId": "a2ea80e8-bb89-42f9-93f4-2a22356d6cc5"
      },
      "source": [
        "dataframe = pd.DataFrame()\n",
        "dataframe['Name'] = ['Jacky Jackson','Steven Stevenson','John Jimmy']\n",
        "dataframe['Age'] = [38,25,35]\n",
        "dataframe['Weight'] = [60.7,72.4,65.5]\n",
        "dataframe['Height'] = [180.2,165.9,180.2]\n",
        "dataframe['Driver License'] = [True,False,True]\n",
        "\n",
        "dataframe"
      ],
      "execution_count": 23,
      "outputs": [
        {
          "output_type": "execute_result",
          "data": {
            "text/html": [
              "<div>\n",
              "<style scoped>\n",
              "    .dataframe tbody tr th:only-of-type {\n",
              "        vertical-align: middle;\n",
              "    }\n",
              "\n",
              "    .dataframe tbody tr th {\n",
              "        vertical-align: top;\n",
              "    }\n",
              "\n",
              "    .dataframe thead th {\n",
              "        text-align: right;\n",
              "    }\n",
              "</style>\n",
              "<table border=\"1\" class=\"dataframe\">\n",
              "  <thead>\n",
              "    <tr style=\"text-align: right;\">\n",
              "      <th></th>\n",
              "      <th>Name</th>\n",
              "      <th>Age</th>\n",
              "      <th>Weight</th>\n",
              "      <th>Height</th>\n",
              "      <th>Driver License</th>\n",
              "    </tr>\n",
              "  </thead>\n",
              "  <tbody>\n",
              "    <tr>\n",
              "      <th>0</th>\n",
              "      <td>Jacky Jackson</td>\n",
              "      <td>38</td>\n",
              "      <td>60.7</td>\n",
              "      <td>180.2</td>\n",
              "      <td>True</td>\n",
              "    </tr>\n",
              "    <tr>\n",
              "      <th>1</th>\n",
              "      <td>Steven Stevenson</td>\n",
              "      <td>25</td>\n",
              "      <td>72.4</td>\n",
              "      <td>165.9</td>\n",
              "      <td>False</td>\n",
              "    </tr>\n",
              "    <tr>\n",
              "      <th>2</th>\n",
              "      <td>John Jimmy</td>\n",
              "      <td>35</td>\n",
              "      <td>65.5</td>\n",
              "      <td>180.2</td>\n",
              "      <td>True</td>\n",
              "    </tr>\n",
              "  </tbody>\n",
              "</table>\n",
              "</div>"
            ],
            "text/plain": [
              "               Name  Age  Weight  Height  Driver License\n",
              "0     Jacky Jackson   38    60.7   180.2            True\n",
              "1  Steven Stevenson   25    72.4   165.9           False\n",
              "2        John Jimmy   35    65.5   180.2            True"
            ]
          },
          "metadata": {
            "tags": []
          },
          "execution_count": 23
        }
      ]
    },
    {
      "cell_type": "code",
      "metadata": {
        "id": "BjEbutyMh_gy",
        "colab": {
          "base_uri": "https://localhost:8080/"
        },
        "outputId": "4e6a75b2-5890-4484-e163-53509d203e11"
      },
      "source": [
        "dataframe.shape"
      ],
      "execution_count": 24,
      "outputs": [
        {
          "output_type": "execute_result",
          "data": {
            "text/plain": [
              "(3, 5)"
            ]
          },
          "metadata": {
            "tags": []
          },
          "execution_count": 24
        }
      ]
    },
    {
      "cell_type": "code",
      "metadata": {
        "id": "rPk9hqqFjZPW",
        "colab": {
          "base_uri": "https://localhost:8080/"
        },
        "outputId": "e8b4fe2a-9207-4a46-8279-1dfcd3afde02"
      },
      "source": [
        "!pip install pydataset"
      ],
      "execution_count": 25,
      "outputs": [
        {
          "output_type": "stream",
          "text": [
            "Collecting pydataset\n",
            "  Downloading pydataset-0.2.0.tar.gz (15.9 MB)\n",
            "\u001b[K     |████████████████████████████████| 15.9 MB 104 kB/s \n",
            "\u001b[?25hRequirement already satisfied: pandas in /usr/local/lib/python3.7/dist-packages (from pydataset) (1.1.5)\n",
            "Requirement already satisfied: pytz>=2017.2 in /usr/local/lib/python3.7/dist-packages (from pandas->pydataset) (2018.9)\n",
            "Requirement already satisfied: numpy>=1.15.4 in /usr/local/lib/python3.7/dist-packages (from pandas->pydataset) (1.19.5)\n",
            "Requirement already satisfied: python-dateutil>=2.7.3 in /usr/local/lib/python3.7/dist-packages (from pandas->pydataset) (2.8.1)\n",
            "Requirement already satisfied: six>=1.5 in /usr/local/lib/python3.7/dist-packages (from python-dateutil>=2.7.3->pandas->pydataset) (1.15.0)\n",
            "Building wheels for collected packages: pydataset\n",
            "  Building wheel for pydataset (setup.py) ... \u001b[?25l\u001b[?25hdone\n",
            "  Created wheel for pydataset: filename=pydataset-0.2.0-py3-none-any.whl size=15939431 sha256=9fdf574f4a2fadf8ffd4f9c66848794c28c8f270516688a183899921f6a5e8da\n",
            "  Stored in directory: /root/.cache/pip/wheels/32/26/30/d71562a19eed948eaada9a61b4d722fa358657a3bfb5d151e2\n",
            "Successfully built pydataset\n",
            "Installing collected packages: pydataset\n",
            "Successfully installed pydataset-0.2.0\n"
          ],
          "name": "stdout"
        }
      ]
    },
    {
      "cell_type": "code",
      "metadata": {
        "id": "hLZX7M8ujZcj",
        "colab": {
          "base_uri": "https://localhost:8080/",
          "height": 221
        },
        "outputId": "eca295c1-3174-4236-f51e-1aeb49bb9ef2"
      },
      "source": [
        "from pydataset import data\n",
        "\n",
        "dataframe = data('Journals')\n",
        "dataframe.head()"
      ],
      "execution_count": 26,
      "outputs": [
        {
          "output_type": "stream",
          "text": [
            "initiated datasets repo at: /root/.pydataset/\n"
          ],
          "name": "stdout"
        },
        {
          "output_type": "execute_result",
          "data": {
            "text/html": [
              "<div>\n",
              "<style scoped>\n",
              "    .dataframe tbody tr th:only-of-type {\n",
              "        vertical-align: middle;\n",
              "    }\n",
              "\n",
              "    .dataframe tbody tr th {\n",
              "        vertical-align: top;\n",
              "    }\n",
              "\n",
              "    .dataframe thead th {\n",
              "        text-align: right;\n",
              "    }\n",
              "</style>\n",
              "<table border=\"1\" class=\"dataframe\">\n",
              "  <thead>\n",
              "    <tr style=\"text-align: right;\">\n",
              "      <th></th>\n",
              "      <th>title</th>\n",
              "      <th>pub</th>\n",
              "      <th>society</th>\n",
              "      <th>libprice</th>\n",
              "      <th>pages</th>\n",
              "      <th>charpp</th>\n",
              "      <th>citestot</th>\n",
              "      <th>date1</th>\n",
              "      <th>oclc</th>\n",
              "      <th>field</th>\n",
              "    </tr>\n",
              "  </thead>\n",
              "  <tbody>\n",
              "    <tr>\n",
              "      <th>1</th>\n",
              "      <td>Asian-Pacific Economic Literature</td>\n",
              "      <td>Blackwell</td>\n",
              "      <td>no</td>\n",
              "      <td>123</td>\n",
              "      <td>440</td>\n",
              "      <td>3822</td>\n",
              "      <td>21</td>\n",
              "      <td>1986</td>\n",
              "      <td>14</td>\n",
              "      <td>General</td>\n",
              "    </tr>\n",
              "    <tr>\n",
              "      <th>2</th>\n",
              "      <td>South African Journal of Economic History</td>\n",
              "      <td>So Afr ec history assn</td>\n",
              "      <td>no</td>\n",
              "      <td>20</td>\n",
              "      <td>309</td>\n",
              "      <td>1782</td>\n",
              "      <td>22</td>\n",
              "      <td>1986</td>\n",
              "      <td>59</td>\n",
              "      <td>Ec History</td>\n",
              "    </tr>\n",
              "    <tr>\n",
              "      <th>3</th>\n",
              "      <td>Computational Economics</td>\n",
              "      <td>Kluwer</td>\n",
              "      <td>no</td>\n",
              "      <td>443</td>\n",
              "      <td>567</td>\n",
              "      <td>2924</td>\n",
              "      <td>22</td>\n",
              "      <td>1987</td>\n",
              "      <td>17</td>\n",
              "      <td>Specialized</td>\n",
              "    </tr>\n",
              "    <tr>\n",
              "      <th>4</th>\n",
              "      <td>MOCT-MOST Economic Policy in Transitional Economics</td>\n",
              "      <td>Kluwer</td>\n",
              "      <td>no</td>\n",
              "      <td>276</td>\n",
              "      <td>520</td>\n",
              "      <td>3234</td>\n",
              "      <td>22</td>\n",
              "      <td>1991</td>\n",
              "      <td>2</td>\n",
              "      <td>Area Studies</td>\n",
              "    </tr>\n",
              "    <tr>\n",
              "      <th>5</th>\n",
              "      <td>Journal of Socio-Economics</td>\n",
              "      <td>Elsevier</td>\n",
              "      <td>no</td>\n",
              "      <td>295</td>\n",
              "      <td>791</td>\n",
              "      <td>3024</td>\n",
              "      <td>24</td>\n",
              "      <td>1972</td>\n",
              "      <td>96</td>\n",
              "      <td>Interdisciplinary</td>\n",
              "    </tr>\n",
              "  </tbody>\n",
              "</table>\n",
              "</div>"
            ],
            "text/plain": [
              "                                                 title  ...              field\n",
              "1                    Asian-Pacific Economic Literature  ...            General\n",
              "2            South African Journal of Economic History  ...         Ec History\n",
              "3                              Computational Economics  ...        Specialized\n",
              "4  MOCT-MOST Economic Policy in Transitional Economics  ...       Area Studies\n",
              "5                           Journal of Socio-Economics  ...  Interdisciplinary\n",
              "\n",
              "[5 rows x 10 columns]"
            ]
          },
          "metadata": {
            "tags": []
          },
          "execution_count": 26
        }
      ]
    },
    {
      "cell_type": "code",
      "metadata": {
        "id": "dYc44STMj1t-",
        "colab": {
          "base_uri": "https://localhost:8080/",
          "height": 204
        },
        "outputId": "ee6dcc3a-0fd1-469d-9d0e-19e9a9058788"
      },
      "source": [
        "dataframe.tail()"
      ],
      "execution_count": 27,
      "outputs": [
        {
          "output_type": "execute_result",
          "data": {
            "text/html": [
              "<div>\n",
              "<style scoped>\n",
              "    .dataframe tbody tr th:only-of-type {\n",
              "        vertical-align: middle;\n",
              "    }\n",
              "\n",
              "    .dataframe tbody tr th {\n",
              "        vertical-align: top;\n",
              "    }\n",
              "\n",
              "    .dataframe thead th {\n",
              "        text-align: right;\n",
              "    }\n",
              "</style>\n",
              "<table border=\"1\" class=\"dataframe\">\n",
              "  <thead>\n",
              "    <tr style=\"text-align: right;\">\n",
              "      <th></th>\n",
              "      <th>title</th>\n",
              "      <th>pub</th>\n",
              "      <th>society</th>\n",
              "      <th>libprice</th>\n",
              "      <th>pages</th>\n",
              "      <th>charpp</th>\n",
              "      <th>citestot</th>\n",
              "      <th>date1</th>\n",
              "      <th>oclc</th>\n",
              "      <th>field</th>\n",
              "    </tr>\n",
              "  </thead>\n",
              "  <tbody>\n",
              "    <tr>\n",
              "      <th>176</th>\n",
              "      <td>Journal of Finance</td>\n",
              "      <td>Am. Finance Assn</td>\n",
              "      <td>yes</td>\n",
              "      <td>226</td>\n",
              "      <td>2272</td>\n",
              "      <td>3036</td>\n",
              "      <td>3791</td>\n",
              "      <td>1945</td>\n",
              "      <td>799</td>\n",
              "      <td>Finance</td>\n",
              "    </tr>\n",
              "    <tr>\n",
              "      <th>177</th>\n",
              "      <td>Quarterly Journal of Economics</td>\n",
              "      <td>MIT press</td>\n",
              "      <td>no</td>\n",
              "      <td>148</td>\n",
              "      <td>1467</td>\n",
              "      <td>2184</td>\n",
              "      <td>4138</td>\n",
              "      <td>1886</td>\n",
              "      <td>660</td>\n",
              "      <td>General</td>\n",
              "    </tr>\n",
              "    <tr>\n",
              "      <th>178</th>\n",
              "      <td>Journal of Political Economy</td>\n",
              "      <td>Univ of Chicago Press</td>\n",
              "      <td>no</td>\n",
              "      <td>159</td>\n",
              "      <td>1669</td>\n",
              "      <td>2640</td>\n",
              "      <td>6697</td>\n",
              "      <td>1892</td>\n",
              "      <td>737</td>\n",
              "      <td>General</td>\n",
              "    </tr>\n",
              "    <tr>\n",
              "      <th>179</th>\n",
              "      <td>Econometrica</td>\n",
              "      <td>Blackwell</td>\n",
              "      <td>yes</td>\n",
              "      <td>178</td>\n",
              "      <td>1482</td>\n",
              "      <td>2992</td>\n",
              "      <td>7943</td>\n",
              "      <td>1932</td>\n",
              "      <td>346</td>\n",
              "      <td>General</td>\n",
              "    </tr>\n",
              "    <tr>\n",
              "      <th>180</th>\n",
              "      <td>American Economic Review</td>\n",
              "      <td>Am Ec Assn</td>\n",
              "      <td>yes</td>\n",
              "      <td>47</td>\n",
              "      <td>1867</td>\n",
              "      <td>3900</td>\n",
              "      <td>8999</td>\n",
              "      <td>1911</td>\n",
              "      <td>1098</td>\n",
              "      <td>General</td>\n",
              "    </tr>\n",
              "  </tbody>\n",
              "</table>\n",
              "</div>"
            ],
            "text/plain": [
              "                              title                    pub  ...  oclc    field\n",
              "176              Journal of Finance       Am. Finance Assn  ...   799  Finance\n",
              "177  Quarterly Journal of Economics              MIT press  ...   660  General\n",
              "178    Journal of Political Economy  Univ of Chicago Press  ...   737  General\n",
              "179                    Econometrica              Blackwell  ...   346  General\n",
              "180        American Economic Review             Am Ec Assn  ...  1098  General\n",
              "\n",
              "[5 rows x 10 columns]"
            ]
          },
          "metadata": {
            "tags": []
          },
          "execution_count": 27
        }
      ]
    },
    {
      "cell_type": "code",
      "metadata": {
        "id": "ut3ICs6IkbLi",
        "colab": {
          "base_uri": "https://localhost:8080/"
        },
        "outputId": "cac8d65b-1d19-4809-b5c1-935f649a5f3d"
      },
      "source": [
        "dataframe.shape"
      ],
      "execution_count": 28,
      "outputs": [
        {
          "output_type": "execute_result",
          "data": {
            "text/plain": [
              "(180, 10)"
            ]
          },
          "metadata": {
            "tags": []
          },
          "execution_count": 28
        }
      ]
    },
    {
      "cell_type": "code",
      "metadata": {
        "id": "gtSztKT8kbPd",
        "colab": {
          "base_uri": "https://localhost:8080/",
          "height": 297
        },
        "outputId": "ff8b7599-88f5-4a3c-d092-f5931434aee6"
      },
      "source": [
        "dataframe.describe()"
      ],
      "execution_count": 29,
      "outputs": [
        {
          "output_type": "execute_result",
          "data": {
            "text/html": [
              "<div>\n",
              "<style scoped>\n",
              "    .dataframe tbody tr th:only-of-type {\n",
              "        vertical-align: middle;\n",
              "    }\n",
              "\n",
              "    .dataframe tbody tr th {\n",
              "        vertical-align: top;\n",
              "    }\n",
              "\n",
              "    .dataframe thead th {\n",
              "        text-align: right;\n",
              "    }\n",
              "</style>\n",
              "<table border=\"1\" class=\"dataframe\">\n",
              "  <thead>\n",
              "    <tr style=\"text-align: right;\">\n",
              "      <th></th>\n",
              "      <th>libprice</th>\n",
              "      <th>pages</th>\n",
              "      <th>charpp</th>\n",
              "      <th>citestot</th>\n",
              "      <th>date1</th>\n",
              "      <th>oclc</th>\n",
              "    </tr>\n",
              "  </thead>\n",
              "  <tbody>\n",
              "    <tr>\n",
              "      <th>count</th>\n",
              "      <td>180.000000</td>\n",
              "      <td>180.000000</td>\n",
              "      <td>180.000000</td>\n",
              "      <td>180.000000</td>\n",
              "      <td>180.000000</td>\n",
              "      <td>180.000000</td>\n",
              "    </tr>\n",
              "    <tr>\n",
              "      <th>mean</th>\n",
              "      <td>417.722222</td>\n",
              "      <td>827.744444</td>\n",
              "      <td>3232.700000</td>\n",
              "      <td>647.055556</td>\n",
              "      <td>1966.905556</td>\n",
              "      <td>196.866667</td>\n",
              "    </tr>\n",
              "    <tr>\n",
              "      <th>std</th>\n",
              "      <td>385.834596</td>\n",
              "      <td>436.817402</td>\n",
              "      <td>819.358285</td>\n",
              "      <td>1182.373679</td>\n",
              "      <td>25.711484</td>\n",
              "      <td>204.528847</td>\n",
              "    </tr>\n",
              "    <tr>\n",
              "      <th>min</th>\n",
              "      <td>20.000000</td>\n",
              "      <td>167.000000</td>\n",
              "      <td>1782.000000</td>\n",
              "      <td>21.000000</td>\n",
              "      <td>1844.000000</td>\n",
              "      <td>2.000000</td>\n",
              "    </tr>\n",
              "    <tr>\n",
              "      <th>25%</th>\n",
              "      <td>134.500000</td>\n",
              "      <td>548.750000</td>\n",
              "      <td>2715.000000</td>\n",
              "      <td>97.750000</td>\n",
              "      <td>1962.750000</td>\n",
              "      <td>52.000000</td>\n",
              "    </tr>\n",
              "    <tr>\n",
              "      <th>50%</th>\n",
              "      <td>282.000000</td>\n",
              "      <td>693.000000</td>\n",
              "      <td>3010.000000</td>\n",
              "      <td>262.500000</td>\n",
              "      <td>1973.000000</td>\n",
              "      <td>122.500000</td>\n",
              "    </tr>\n",
              "    <tr>\n",
              "      <th>75%</th>\n",
              "      <td>540.750000</td>\n",
              "      <td>974.250000</td>\n",
              "      <td>3476.750000</td>\n",
              "      <td>656.000000</td>\n",
              "      <td>1982.250000</td>\n",
              "      <td>268.250000</td>\n",
              "    </tr>\n",
              "    <tr>\n",
              "      <th>max</th>\n",
              "      <td>2120.000000</td>\n",
              "      <td>2632.000000</td>\n",
              "      <td>6859.000000</td>\n",
              "      <td>8999.000000</td>\n",
              "      <td>1996.000000</td>\n",
              "      <td>1098.000000</td>\n",
              "    </tr>\n",
              "  </tbody>\n",
              "</table>\n",
              "</div>"
            ],
            "text/plain": [
              "          libprice        pages  ...        date1         oclc\n",
              "count   180.000000   180.000000  ...   180.000000   180.000000\n",
              "mean    417.722222   827.744444  ...  1966.905556   196.866667\n",
              "std     385.834596   436.817402  ...    25.711484   204.528847\n",
              "min      20.000000   167.000000  ...  1844.000000     2.000000\n",
              "25%     134.500000   548.750000  ...  1962.750000    52.000000\n",
              "50%     282.000000   693.000000  ...  1973.000000   122.500000\n",
              "75%     540.750000   974.250000  ...  1982.250000   268.250000\n",
              "max    2120.000000  2632.000000  ...  1996.000000  1098.000000\n",
              "\n",
              "[8 rows x 6 columns]"
            ]
          },
          "metadata": {
            "tags": []
          },
          "execution_count": 29
        }
      ]
    },
    {
      "cell_type": "code",
      "metadata": {
        "id": "Hb0iOXgOk7YZ",
        "colab": {
          "base_uri": "https://localhost:8080/"
        },
        "outputId": "b5adcea3-90e4-48ca-ff25-b3c141ccf223"
      },
      "source": [
        "dataframe.iloc[0]"
      ],
      "execution_count": 30,
      "outputs": [
        {
          "output_type": "execute_result",
          "data": {
            "text/plain": [
              "title       Asian-Pacific Economic Literature\n",
              "pub                                 Blackwell\n",
              "society                                    no\n",
              "libprice                                  123\n",
              "pages                                     440\n",
              "charpp                                   3822\n",
              "citestot                                   21\n",
              "date1                                    1986\n",
              "oclc                                       14\n",
              "field                                 General\n",
              "Name: 1, dtype: object"
            ]
          },
          "metadata": {
            "tags": []
          },
          "execution_count": 30
        }
      ]
    },
    {
      "cell_type": "code",
      "metadata": {
        "id": "Ql4-ifcdrOpT",
        "colab": {
          "base_uri": "https://localhost:8080/"
        },
        "outputId": "a23ce754-837a-4191-b139-c68b7f7d577d"
      },
      "source": [
        "dataframe.iloc[9]"
      ],
      "execution_count": 31,
      "outputs": [
        {
          "output_type": "execute_result",
          "data": {
            "text/plain": [
              "title       Metroeconomica\n",
              "pub              Blackwell\n",
              "society                 no\n",
              "libprice               262\n",
              "pages                  386\n",
              "charpp                2501\n",
              "citestot                30\n",
              "date1                 1949\n",
              "oclc                    46\n",
              "field              General\n",
              "Name: 10, dtype: object"
            ]
          },
          "metadata": {
            "tags": []
          },
          "execution_count": 31
        }
      ]
    },
    {
      "cell_type": "code",
      "metadata": {
        "id": "XH2xQ6Norfvh",
        "colab": {
          "base_uri": "https://localhost:8080/",
          "height": 142
        },
        "outputId": "4b4bf7b3-2ef4-4bb6-b840-2b78052ffd14"
      },
      "source": [
        "dataframe.iloc[1:4]"
      ],
      "execution_count": 32,
      "outputs": [
        {
          "output_type": "execute_result",
          "data": {
            "text/html": [
              "<div>\n",
              "<style scoped>\n",
              "    .dataframe tbody tr th:only-of-type {\n",
              "        vertical-align: middle;\n",
              "    }\n",
              "\n",
              "    .dataframe tbody tr th {\n",
              "        vertical-align: top;\n",
              "    }\n",
              "\n",
              "    .dataframe thead th {\n",
              "        text-align: right;\n",
              "    }\n",
              "</style>\n",
              "<table border=\"1\" class=\"dataframe\">\n",
              "  <thead>\n",
              "    <tr style=\"text-align: right;\">\n",
              "      <th></th>\n",
              "      <th>title</th>\n",
              "      <th>pub</th>\n",
              "      <th>society</th>\n",
              "      <th>libprice</th>\n",
              "      <th>pages</th>\n",
              "      <th>charpp</th>\n",
              "      <th>citestot</th>\n",
              "      <th>date1</th>\n",
              "      <th>oclc</th>\n",
              "      <th>field</th>\n",
              "    </tr>\n",
              "  </thead>\n",
              "  <tbody>\n",
              "    <tr>\n",
              "      <th>2</th>\n",
              "      <td>South African Journal of Economic History</td>\n",
              "      <td>So Afr ec history assn</td>\n",
              "      <td>no</td>\n",
              "      <td>20</td>\n",
              "      <td>309</td>\n",
              "      <td>1782</td>\n",
              "      <td>22</td>\n",
              "      <td>1986</td>\n",
              "      <td>59</td>\n",
              "      <td>Ec History</td>\n",
              "    </tr>\n",
              "    <tr>\n",
              "      <th>3</th>\n",
              "      <td>Computational Economics</td>\n",
              "      <td>Kluwer</td>\n",
              "      <td>no</td>\n",
              "      <td>443</td>\n",
              "      <td>567</td>\n",
              "      <td>2924</td>\n",
              "      <td>22</td>\n",
              "      <td>1987</td>\n",
              "      <td>17</td>\n",
              "      <td>Specialized</td>\n",
              "    </tr>\n",
              "    <tr>\n",
              "      <th>4</th>\n",
              "      <td>MOCT-MOST Economic Policy in Transitional Economics</td>\n",
              "      <td>Kluwer</td>\n",
              "      <td>no</td>\n",
              "      <td>276</td>\n",
              "      <td>520</td>\n",
              "      <td>3234</td>\n",
              "      <td>22</td>\n",
              "      <td>1991</td>\n",
              "      <td>2</td>\n",
              "      <td>Area Studies</td>\n",
              "    </tr>\n",
              "  </tbody>\n",
              "</table>\n",
              "</div>"
            ],
            "text/plain": [
              "                                                 title  ...         field\n",
              "2            South African Journal of Economic History  ...    Ec History\n",
              "3                              Computational Economics  ...   Specialized\n",
              "4  MOCT-MOST Economic Policy in Transitional Economics  ...  Area Studies\n",
              "\n",
              "[3 rows x 10 columns]"
            ]
          },
          "metadata": {
            "tags": []
          },
          "execution_count": 32
        }
      ]
    },
    {
      "cell_type": "code",
      "metadata": {
        "id": "rfgIHa2_rgf9",
        "colab": {
          "base_uri": "https://localhost:8080/",
          "height": 173
        },
        "outputId": "45e9a105-5dd5-466b-d7d3-f3b6d6ee8982"
      },
      "source": [
        "dataframe.iloc[:4]"
      ],
      "execution_count": 33,
      "outputs": [
        {
          "output_type": "execute_result",
          "data": {
            "text/html": [
              "<div>\n",
              "<style scoped>\n",
              "    .dataframe tbody tr th:only-of-type {\n",
              "        vertical-align: middle;\n",
              "    }\n",
              "\n",
              "    .dataframe tbody tr th {\n",
              "        vertical-align: top;\n",
              "    }\n",
              "\n",
              "    .dataframe thead th {\n",
              "        text-align: right;\n",
              "    }\n",
              "</style>\n",
              "<table border=\"1\" class=\"dataframe\">\n",
              "  <thead>\n",
              "    <tr style=\"text-align: right;\">\n",
              "      <th></th>\n",
              "      <th>title</th>\n",
              "      <th>pub</th>\n",
              "      <th>society</th>\n",
              "      <th>libprice</th>\n",
              "      <th>pages</th>\n",
              "      <th>charpp</th>\n",
              "      <th>citestot</th>\n",
              "      <th>date1</th>\n",
              "      <th>oclc</th>\n",
              "      <th>field</th>\n",
              "    </tr>\n",
              "  </thead>\n",
              "  <tbody>\n",
              "    <tr>\n",
              "      <th>1</th>\n",
              "      <td>Asian-Pacific Economic Literature</td>\n",
              "      <td>Blackwell</td>\n",
              "      <td>no</td>\n",
              "      <td>123</td>\n",
              "      <td>440</td>\n",
              "      <td>3822</td>\n",
              "      <td>21</td>\n",
              "      <td>1986</td>\n",
              "      <td>14</td>\n",
              "      <td>General</td>\n",
              "    </tr>\n",
              "    <tr>\n",
              "      <th>2</th>\n",
              "      <td>South African Journal of Economic History</td>\n",
              "      <td>So Afr ec history assn</td>\n",
              "      <td>no</td>\n",
              "      <td>20</td>\n",
              "      <td>309</td>\n",
              "      <td>1782</td>\n",
              "      <td>22</td>\n",
              "      <td>1986</td>\n",
              "      <td>59</td>\n",
              "      <td>Ec History</td>\n",
              "    </tr>\n",
              "    <tr>\n",
              "      <th>3</th>\n",
              "      <td>Computational Economics</td>\n",
              "      <td>Kluwer</td>\n",
              "      <td>no</td>\n",
              "      <td>443</td>\n",
              "      <td>567</td>\n",
              "      <td>2924</td>\n",
              "      <td>22</td>\n",
              "      <td>1987</td>\n",
              "      <td>17</td>\n",
              "      <td>Specialized</td>\n",
              "    </tr>\n",
              "    <tr>\n",
              "      <th>4</th>\n",
              "      <td>MOCT-MOST Economic Policy in Transitional Economics</td>\n",
              "      <td>Kluwer</td>\n",
              "      <td>no</td>\n",
              "      <td>276</td>\n",
              "      <td>520</td>\n",
              "      <td>3234</td>\n",
              "      <td>22</td>\n",
              "      <td>1991</td>\n",
              "      <td>2</td>\n",
              "      <td>Area Studies</td>\n",
              "    </tr>\n",
              "  </tbody>\n",
              "</table>\n",
              "</div>"
            ],
            "text/plain": [
              "                                                 title  ...         field\n",
              "1                    Asian-Pacific Economic Literature  ...       General\n",
              "2            South African Journal of Economic History  ...    Ec History\n",
              "3                              Computational Economics  ...   Specialized\n",
              "4  MOCT-MOST Economic Policy in Transitional Economics  ...  Area Studies\n",
              "\n",
              "[4 rows x 10 columns]"
            ]
          },
          "metadata": {
            "tags": []
          },
          "execution_count": 33
        }
      ]
    },
    {
      "cell_type": "code",
      "metadata": {
        "id": "V2h2o-wEr38R",
        "colab": {
          "base_uri": "https://localhost:8080/",
          "height": 359
        },
        "outputId": "b2d861b6-14ed-4e7d-b471-8af03c75e78c"
      },
      "source": [
        "dataframe[['title','pub']][:10]"
      ],
      "execution_count": 34,
      "outputs": [
        {
          "output_type": "execute_result",
          "data": {
            "text/html": [
              "<div>\n",
              "<style scoped>\n",
              "    .dataframe tbody tr th:only-of-type {\n",
              "        vertical-align: middle;\n",
              "    }\n",
              "\n",
              "    .dataframe tbody tr th {\n",
              "        vertical-align: top;\n",
              "    }\n",
              "\n",
              "    .dataframe thead th {\n",
              "        text-align: right;\n",
              "    }\n",
              "</style>\n",
              "<table border=\"1\" class=\"dataframe\">\n",
              "  <thead>\n",
              "    <tr style=\"text-align: right;\">\n",
              "      <th></th>\n",
              "      <th>title</th>\n",
              "      <th>pub</th>\n",
              "    </tr>\n",
              "  </thead>\n",
              "  <tbody>\n",
              "    <tr>\n",
              "      <th>1</th>\n",
              "      <td>Asian-Pacific Economic Literature</td>\n",
              "      <td>Blackwell</td>\n",
              "    </tr>\n",
              "    <tr>\n",
              "      <th>2</th>\n",
              "      <td>South African Journal of Economic History</td>\n",
              "      <td>So Afr ec history assn</td>\n",
              "    </tr>\n",
              "    <tr>\n",
              "      <th>3</th>\n",
              "      <td>Computational Economics</td>\n",
              "      <td>Kluwer</td>\n",
              "    </tr>\n",
              "    <tr>\n",
              "      <th>4</th>\n",
              "      <td>MOCT-MOST Economic Policy in Transitional Economics</td>\n",
              "      <td>Kluwer</td>\n",
              "    </tr>\n",
              "    <tr>\n",
              "      <th>5</th>\n",
              "      <td>Journal of Socio-Economics</td>\n",
              "      <td>Elsevier</td>\n",
              "    </tr>\n",
              "    <tr>\n",
              "      <th>6</th>\n",
              "      <td>Labour Economics</td>\n",
              "      <td>Elsevier</td>\n",
              "    </tr>\n",
              "    <tr>\n",
              "      <th>7</th>\n",
              "      <td>Environment and Development economics</td>\n",
              "      <td>Cambridge Univ Pres</td>\n",
              "    </tr>\n",
              "    <tr>\n",
              "      <th>8</th>\n",
              "      <td>Review. of Radical Political Economics</td>\n",
              "      <td>Elsevier</td>\n",
              "    </tr>\n",
              "    <tr>\n",
              "      <th>9</th>\n",
              "      <td>Economics of Planning</td>\n",
              "      <td>Kluwer</td>\n",
              "    </tr>\n",
              "    <tr>\n",
              "      <th>10</th>\n",
              "      <td>Metroeconomica</td>\n",
              "      <td>Blackwell</td>\n",
              "    </tr>\n",
              "  </tbody>\n",
              "</table>\n",
              "</div>"
            ],
            "text/plain": [
              "                                                  title                     pub\n",
              "1                     Asian-Pacific Economic Literature               Blackwell\n",
              "2             South African Journal of Economic History  So Afr ec history assn\n",
              "3                               Computational Economics                  Kluwer\n",
              "4   MOCT-MOST Economic Policy in Transitional Economics                  Kluwer\n",
              "5                            Journal of Socio-Economics                Elsevier\n",
              "6                                      Labour Economics                Elsevier\n",
              "7                 Environment and Development economics     Cambridge Univ Pres\n",
              "8                Review. of Radical Political Economics                Elsevier\n",
              "9                                 Economics of Planning                  Kluwer\n",
              "10                                       Metroeconomica               Blackwell"
            ]
          },
          "metadata": {
            "tags": []
          },
          "execution_count": 34
        }
      ]
    },
    {
      "cell_type": "code",
      "metadata": {
        "id": "ilrAKCiHseSB",
        "colab": {
          "base_uri": "https://localhost:8080/",
          "height": 359
        },
        "outputId": "fee42f3a-3f3e-499f-b9b3-7d2bb9f93398"
      },
      "source": [
        "dataframe.sort_values(['pub'])[:10]"
      ],
      "execution_count": 35,
      "outputs": [
        {
          "output_type": "execute_result",
          "data": {
            "text/html": [
              "<div>\n",
              "<style scoped>\n",
              "    .dataframe tbody tr th:only-of-type {\n",
              "        vertical-align: middle;\n",
              "    }\n",
              "\n",
              "    .dataframe tbody tr th {\n",
              "        vertical-align: top;\n",
              "    }\n",
              "\n",
              "    .dataframe thead th {\n",
              "        text-align: right;\n",
              "    }\n",
              "</style>\n",
              "<table border=\"1\" class=\"dataframe\">\n",
              "  <thead>\n",
              "    <tr style=\"text-align: right;\">\n",
              "      <th></th>\n",
              "      <th>title</th>\n",
              "      <th>pub</th>\n",
              "      <th>society</th>\n",
              "      <th>libprice</th>\n",
              "      <th>pages</th>\n",
              "      <th>charpp</th>\n",
              "      <th>citestot</th>\n",
              "      <th>date1</th>\n",
              "      <th>oclc</th>\n",
              "      <th>field</th>\n",
              "    </tr>\n",
              "  </thead>\n",
              "  <tbody>\n",
              "    <tr>\n",
              "      <th>47</th>\n",
              "      <td>Bulletin of Indonesian Economic Studies</td>\n",
              "      <td>ANU Press</td>\n",
              "      <td>no</td>\n",
              "      <td>54</td>\n",
              "      <td>518</td>\n",
              "      <td>2858</td>\n",
              "      <td>98</td>\n",
              "      <td>1964</td>\n",
              "      <td>22</td>\n",
              "      <td>Specialized</td>\n",
              "    </tr>\n",
              "    <tr>\n",
              "      <th>90</th>\n",
              "      <td>Explorations in Economic History</td>\n",
              "      <td>Academic Press</td>\n",
              "      <td>no</td>\n",
              "      <td>265</td>\n",
              "      <td>447</td>\n",
              "      <td>2904</td>\n",
              "      <td>261</td>\n",
              "      <td>1963</td>\n",
              "      <td>199</td>\n",
              "      <td>Ec History</td>\n",
              "    </tr>\n",
              "    <tr>\n",
              "      <th>171</th>\n",
              "      <td>Journal of Economic Theory</td>\n",
              "      <td>Academic Press</td>\n",
              "      <td>no</td>\n",
              "      <td>1400</td>\n",
              "      <td>2000</td>\n",
              "      <td>2684</td>\n",
              "      <td>2514</td>\n",
              "      <td>1969</td>\n",
              "      <td>165</td>\n",
              "      <td>Theory</td>\n",
              "    </tr>\n",
              "    <tr>\n",
              "      <th>158</th>\n",
              "      <td>Journal of Environmental Ec. &amp; Mgmt</td>\n",
              "      <td>Academic Press</td>\n",
              "      <td>no</td>\n",
              "      <td>590</td>\n",
              "      <td>636</td>\n",
              "      <td>3096</td>\n",
              "      <td>1152</td>\n",
              "      <td>1974</td>\n",
              "      <td>202</td>\n",
              "      <td>Natural Resources</td>\n",
              "    </tr>\n",
              "    <tr>\n",
              "      <th>145</th>\n",
              "      <td>Journal of Urban Economics</td>\n",
              "      <td>Academic Press</td>\n",
              "      <td>no</td>\n",
              "      <td>640</td>\n",
              "      <td>1058</td>\n",
              "      <td>2666</td>\n",
              "      <td>787</td>\n",
              "      <td>1974</td>\n",
              "      <td>230</td>\n",
              "      <td>Urban and Regional</td>\n",
              "    </tr>\n",
              "    <tr>\n",
              "      <th>111</th>\n",
              "      <td>Games and Econ. Behavior</td>\n",
              "      <td>Academic Press</td>\n",
              "      <td>no</td>\n",
              "      <td>490</td>\n",
              "      <td>1197</td>\n",
              "      <td>2460</td>\n",
              "      <td>412</td>\n",
              "      <td>1988</td>\n",
              "      <td>45</td>\n",
              "      <td>Theory</td>\n",
              "    </tr>\n",
              "    <tr>\n",
              "      <th>86</th>\n",
              "      <td>Journal of Comparative Economics</td>\n",
              "      <td>Academic Press</td>\n",
              "      <td>no</td>\n",
              "      <td>410</td>\n",
              "      <td>803</td>\n",
              "      <td>2442</td>\n",
              "      <td>245</td>\n",
              "      <td>1977</td>\n",
              "      <td>185</td>\n",
              "      <td>Area Studies</td>\n",
              "    </tr>\n",
              "    <tr>\n",
              "      <th>53</th>\n",
              "      <td>Journal of Financial Intermediation</td>\n",
              "      <td>Academic Press</td>\n",
              "      <td>no</td>\n",
              "      <td>240</td>\n",
              "      <td>420</td>\n",
              "      <td>2773</td>\n",
              "      <td>121</td>\n",
              "      <td>1991</td>\n",
              "      <td>48</td>\n",
              "      <td>Finance</td>\n",
              "    </tr>\n",
              "    <tr>\n",
              "      <th>51</th>\n",
              "      <td>Journal of the Japanese &amp; Intnl Economies</td>\n",
              "      <td>Academic Press</td>\n",
              "      <td>no</td>\n",
              "      <td>355</td>\n",
              "      <td>451</td>\n",
              "      <td>2541</td>\n",
              "      <td>119</td>\n",
              "      <td>1986</td>\n",
              "      <td>50</td>\n",
              "      <td>Area Studies</td>\n",
              "    </tr>\n",
              "    <tr>\n",
              "      <th>35</th>\n",
              "      <td>Journal of Housing Economics</td>\n",
              "      <td>Academic Press</td>\n",
              "      <td>no</td>\n",
              "      <td>235</td>\n",
              "      <td>330</td>\n",
              "      <td>2623</td>\n",
              "      <td>78</td>\n",
              "      <td>1982</td>\n",
              "      <td>27</td>\n",
              "      <td>Specialized</td>\n",
              "    </tr>\n",
              "  </tbody>\n",
              "</table>\n",
              "</div>"
            ],
            "text/plain": [
              "                                         title  ...               field\n",
              "47     Bulletin of Indonesian Economic Studies  ...         Specialized\n",
              "90            Explorations in Economic History  ...          Ec History\n",
              "171                 Journal of Economic Theory  ...              Theory\n",
              "158        Journal of Environmental Ec. & Mgmt  ...   Natural Resources\n",
              "145                 Journal of Urban Economics  ...  Urban and Regional\n",
              "111                   Games and Econ. Behavior  ...              Theory\n",
              "86            Journal of Comparative Economics  ...        Area Studies\n",
              "53         Journal of Financial Intermediation  ...             Finance\n",
              "51   Journal of the Japanese & Intnl Economies  ...        Area Studies\n",
              "35                Journal of Housing Economics  ...         Specialized\n",
              "\n",
              "[10 rows x 10 columns]"
            ]
          },
          "metadata": {
            "tags": []
          },
          "execution_count": 35
        }
      ]
    },
    {
      "cell_type": "code",
      "metadata": {
        "id": "P1UOVDSis7Di",
        "colab": {
          "base_uri": "https://localhost:8080/",
          "height": 359
        },
        "outputId": "0a01821d-b495-4885-bc53-5f495c3a985e"
      },
      "source": [
        "dataframe.sort_values(['libprice'])[:10]"
      ],
      "execution_count": 36,
      "outputs": [
        {
          "output_type": "execute_result",
          "data": {
            "text/html": [
              "<div>\n",
              "<style scoped>\n",
              "    .dataframe tbody tr th:only-of-type {\n",
              "        vertical-align: middle;\n",
              "    }\n",
              "\n",
              "    .dataframe tbody tr th {\n",
              "        vertical-align: top;\n",
              "    }\n",
              "\n",
              "    .dataframe thead th {\n",
              "        text-align: right;\n",
              "    }\n",
              "</style>\n",
              "<table border=\"1\" class=\"dataframe\">\n",
              "  <thead>\n",
              "    <tr style=\"text-align: right;\">\n",
              "      <th></th>\n",
              "      <th>title</th>\n",
              "      <th>pub</th>\n",
              "      <th>society</th>\n",
              "      <th>libprice</th>\n",
              "      <th>pages</th>\n",
              "      <th>charpp</th>\n",
              "      <th>citestot</th>\n",
              "      <th>date1</th>\n",
              "      <th>oclc</th>\n",
              "      <th>field</th>\n",
              "    </tr>\n",
              "  </thead>\n",
              "  <tbody>\n",
              "    <tr>\n",
              "      <th>2</th>\n",
              "      <td>South African Journal of Economic History</td>\n",
              "      <td>So Afr ec history assn</td>\n",
              "      <td>no</td>\n",
              "      <td>20</td>\n",
              "      <td>309</td>\n",
              "      <td>1782</td>\n",
              "      <td>22</td>\n",
              "      <td>1986</td>\n",
              "      <td>59</td>\n",
              "      <td>Ec History</td>\n",
              "    </tr>\n",
              "    <tr>\n",
              "      <th>116</th>\n",
              "      <td>Population &amp; Development Review</td>\n",
              "      <td>Population Council</td>\n",
              "      <td>no</td>\n",
              "      <td>36</td>\n",
              "      <td>910</td>\n",
              "      <td>2904</td>\n",
              "      <td>445</td>\n",
              "      <td>1975</td>\n",
              "      <td>218</td>\n",
              "      <td>Demography</td>\n",
              "    </tr>\n",
              "    <tr>\n",
              "      <th>140</th>\n",
              "      <td>Journal of Legal Studies</td>\n",
              "      <td>Univ of Chicago Press</td>\n",
              "      <td>no</td>\n",
              "      <td>45</td>\n",
              "      <td>530</td>\n",
              "      <td>2625</td>\n",
              "      <td>700</td>\n",
              "      <td>1972</td>\n",
              "      <td>238</td>\n",
              "      <td>Law and Econ</td>\n",
              "    </tr>\n",
              "    <tr>\n",
              "      <th>102</th>\n",
              "      <td>Journal of Economic Issues</td>\n",
              "      <td>Assn Ev. Economics</td>\n",
              "      <td>yes</td>\n",
              "      <td>45</td>\n",
              "      <td>1003</td>\n",
              "      <td>2870</td>\n",
              "      <td>355</td>\n",
              "      <td>1967</td>\n",
              "      <td>462</td>\n",
              "      <td>Public Finance</td>\n",
              "    </tr>\n",
              "    <tr>\n",
              "      <th>163</th>\n",
              "      <td>Journal of Law and Economics</td>\n",
              "      <td>Univ of Chicago Press</td>\n",
              "      <td>no</td>\n",
              "      <td>45</td>\n",
              "      <td>850</td>\n",
              "      <td>2604</td>\n",
              "      <td>1580</td>\n",
              "      <td>1968</td>\n",
              "      <td>542</td>\n",
              "      <td>Law and Econ</td>\n",
              "    </tr>\n",
              "    <tr>\n",
              "      <th>162</th>\n",
              "      <td>Journal of Economic Literature</td>\n",
              "      <td>Am Ec Assn</td>\n",
              "      <td>yes</td>\n",
              "      <td>47</td>\n",
              "      <td>2632</td>\n",
              "      <td>3848</td>\n",
              "      <td>1530</td>\n",
              "      <td>1963</td>\n",
              "      <td>972</td>\n",
              "      <td>General</td>\n",
              "    </tr>\n",
              "    <tr>\n",
              "      <th>180</th>\n",
              "      <td>American Economic Review</td>\n",
              "      <td>Am Ec Assn</td>\n",
              "      <td>yes</td>\n",
              "      <td>47</td>\n",
              "      <td>1867</td>\n",
              "      <td>3900</td>\n",
              "      <td>8999</td>\n",
              "      <td>1911</td>\n",
              "      <td>1098</td>\n",
              "      <td>General</td>\n",
              "    </tr>\n",
              "    <tr>\n",
              "      <th>164</th>\n",
              "      <td>Journal of Economic Perspectives</td>\n",
              "      <td>Am Ec Assn</td>\n",
              "      <td>yes</td>\n",
              "      <td>47</td>\n",
              "      <td>940</td>\n",
              "      <td>3036</td>\n",
              "      <td>1583</td>\n",
              "      <td>1987</td>\n",
              "      <td>866</td>\n",
              "      <td>General</td>\n",
              "    </tr>\n",
              "    <tr>\n",
              "      <th>76</th>\n",
              "      <td>Economic Record</td>\n",
              "      <td>Ec. Society of Australia</td>\n",
              "      <td>yes</td>\n",
              "      <td>50</td>\n",
              "      <td>421</td>\n",
              "      <td>4320</td>\n",
              "      <td>188</td>\n",
              "      <td>1925</td>\n",
              "      <td>183</td>\n",
              "      <td>General</td>\n",
              "    </tr>\n",
              "    <tr>\n",
              "      <th>47</th>\n",
              "      <td>Bulletin of Indonesian Economic Studies</td>\n",
              "      <td>ANU Press</td>\n",
              "      <td>no</td>\n",
              "      <td>54</td>\n",
              "      <td>518</td>\n",
              "      <td>2858</td>\n",
              "      <td>98</td>\n",
              "      <td>1964</td>\n",
              "      <td>22</td>\n",
              "      <td>Specialized</td>\n",
              "    </tr>\n",
              "  </tbody>\n",
              "</table>\n",
              "</div>"
            ],
            "text/plain": [
              "                                         title  ...           field\n",
              "2    South African Journal of Economic History  ...      Ec History\n",
              "116            Population & Development Review  ...      Demography\n",
              "140                   Journal of Legal Studies  ...    Law and Econ\n",
              "102                 Journal of Economic Issues  ...  Public Finance\n",
              "163               Journal of Law and Economics  ...    Law and Econ\n",
              "162             Journal of Economic Literature  ...         General\n",
              "180                   American Economic Review  ...         General\n",
              "164           Journal of Economic Perspectives  ...         General\n",
              "76                             Economic Record  ...         General\n",
              "47     Bulletin of Indonesian Economic Studies  ...     Specialized\n",
              "\n",
              "[10 rows x 10 columns]"
            ]
          },
          "metadata": {
            "tags": []
          },
          "execution_count": 36
        }
      ]
    },
    {
      "cell_type": "code",
      "metadata": {
        "id": "6mh37vOptKFN",
        "colab": {
          "base_uri": "https://localhost:8080/",
          "height": 359
        },
        "outputId": "d63949d8-90e7-433f-a123-17833cc15dc8"
      },
      "source": [
        "dataframe.sort_values(['pages'])[:10]"
      ],
      "execution_count": 37,
      "outputs": [
        {
          "output_type": "execute_result",
          "data": {
            "text/html": [
              "<div>\n",
              "<style scoped>\n",
              "    .dataframe tbody tr th:only-of-type {\n",
              "        vertical-align: middle;\n",
              "    }\n",
              "\n",
              "    .dataframe tbody tr th {\n",
              "        vertical-align: top;\n",
              "    }\n",
              "\n",
              "    .dataframe thead th {\n",
              "        text-align: right;\n",
              "    }\n",
              "</style>\n",
              "<table border=\"1\" class=\"dataframe\">\n",
              "  <thead>\n",
              "    <tr style=\"text-align: right;\">\n",
              "      <th></th>\n",
              "      <th>title</th>\n",
              "      <th>pub</th>\n",
              "      <th>society</th>\n",
              "      <th>libprice</th>\n",
              "      <th>pages</th>\n",
              "      <th>charpp</th>\n",
              "      <th>citestot</th>\n",
              "      <th>date1</th>\n",
              "      <th>oclc</th>\n",
              "      <th>field</th>\n",
              "    </tr>\n",
              "  </thead>\n",
              "  <tbody>\n",
              "    <tr>\n",
              "      <th>20</th>\n",
              "      <td>China Economic Review</td>\n",
              "      <td>Elsevier</td>\n",
              "      <td>no</td>\n",
              "      <td>242</td>\n",
              "      <td>167</td>\n",
              "      <td>3619</td>\n",
              "      <td>47</td>\n",
              "      <td>1989</td>\n",
              "      <td>16</td>\n",
              "      <td>Area Studies</td>\n",
              "    </tr>\n",
              "    <tr>\n",
              "      <th>9</th>\n",
              "      <td>Economics of Planning</td>\n",
              "      <td>Kluwer</td>\n",
              "      <td>no</td>\n",
              "      <td>226</td>\n",
              "      <td>243</td>\n",
              "      <td>3010</td>\n",
              "      <td>28</td>\n",
              "      <td>1987</td>\n",
              "      <td>46</td>\n",
              "      <td>Area Studies</td>\n",
              "    </tr>\n",
              "    <tr>\n",
              "      <th>81</th>\n",
              "      <td>Journal of Agricultural Economics</td>\n",
              "      <td>Agric. Econ. Society</td>\n",
              "      <td>yes</td>\n",
              "      <td>96</td>\n",
              "      <td>277</td>\n",
              "      <td>4218</td>\n",
              "      <td>220</td>\n",
              "      <td>1948</td>\n",
              "      <td>43</td>\n",
              "      <td>Ag Econ</td>\n",
              "    </tr>\n",
              "    <tr>\n",
              "      <th>14</th>\n",
              "      <td>Managerial and Decision Econ</td>\n",
              "      <td>Wiley</td>\n",
              "      <td>no</td>\n",
              "      <td>905</td>\n",
              "      <td>292</td>\n",
              "      <td>4472</td>\n",
              "      <td>37</td>\n",
              "      <td>1980</td>\n",
              "      <td>62</td>\n",
              "      <td>Management Science</td>\n",
              "    </tr>\n",
              "    <tr>\n",
              "      <th>44</th>\n",
              "      <td>Growth and Change</td>\n",
              "      <td>Blackwell</td>\n",
              "      <td>no</td>\n",
              "      <td>123</td>\n",
              "      <td>302</td>\n",
              "      <td>2772</td>\n",
              "      <td>97</td>\n",
              "      <td>1969</td>\n",
              "      <td>212</td>\n",
              "      <td>Development</td>\n",
              "    </tr>\n",
              "    <tr>\n",
              "      <th>2</th>\n",
              "      <td>South African Journal of Economic History</td>\n",
              "      <td>So Afr ec history assn</td>\n",
              "      <td>no</td>\n",
              "      <td>20</td>\n",
              "      <td>309</td>\n",
              "      <td>1782</td>\n",
              "      <td>22</td>\n",
              "      <td>1986</td>\n",
              "      <td>59</td>\n",
              "      <td>Ec History</td>\n",
              "    </tr>\n",
              "    <tr>\n",
              "      <th>35</th>\n",
              "      <td>Journal of Housing Economics</td>\n",
              "      <td>Academic Press</td>\n",
              "      <td>no</td>\n",
              "      <td>235</td>\n",
              "      <td>330</td>\n",
              "      <td>2623</td>\n",
              "      <td>78</td>\n",
              "      <td>1982</td>\n",
              "      <td>27</td>\n",
              "      <td>Specialized</td>\n",
              "    </tr>\n",
              "    <tr>\n",
              "      <th>16</th>\n",
              "      <td>International Journal of Finance &amp; Economics</td>\n",
              "      <td>Springer</td>\n",
              "      <td>no</td>\n",
              "      <td>375</td>\n",
              "      <td>351</td>\n",
              "      <td>4025</td>\n",
              "      <td>40</td>\n",
              "      <td>1996</td>\n",
              "      <td>17</td>\n",
              "      <td>Finance</td>\n",
              "    </tr>\n",
              "    <tr>\n",
              "      <th>52</th>\n",
              "      <td>Economics and Philosophy</td>\n",
              "      <td>Cambridge Univ Pres</td>\n",
              "      <td>no</td>\n",
              "      <td>95</td>\n",
              "      <td>373</td>\n",
              "      <td>2574</td>\n",
              "      <td>121</td>\n",
              "      <td>1984</td>\n",
              "      <td>144</td>\n",
              "      <td>Interdisciplinary</td>\n",
              "    </tr>\n",
              "    <tr>\n",
              "      <th>19</th>\n",
              "      <td>Economic Development Quarterly</td>\n",
              "      <td>Sage</td>\n",
              "      <td>no</td>\n",
              "      <td>284</td>\n",
              "      <td>385</td>\n",
              "      <td>3318</td>\n",
              "      <td>47</td>\n",
              "      <td>1987</td>\n",
              "      <td>110</td>\n",
              "      <td>Development</td>\n",
              "    </tr>\n",
              "  </tbody>\n",
              "</table>\n",
              "</div>"
            ],
            "text/plain": [
              "                                           title  ...               field\n",
              "20                         China Economic Review  ...        Area Studies\n",
              "9                          Economics of Planning  ...        Area Studies\n",
              "81             Journal of Agricultural Economics  ...             Ag Econ\n",
              "14                  Managerial and Decision Econ  ...  Management Science\n",
              "44                             Growth and Change  ...         Development\n",
              "2      South African Journal of Economic History  ...          Ec History\n",
              "35                  Journal of Housing Economics  ...         Specialized\n",
              "16  International Journal of Finance & Economics  ...             Finance\n",
              "52                      Economics and Philosophy  ...   Interdisciplinary\n",
              "19                Economic Development Quarterly  ...         Development\n",
              "\n",
              "[10 rows x 10 columns]"
            ]
          },
          "metadata": {
            "tags": []
          },
          "execution_count": 37
        }
      ]
    },
    {
      "cell_type": "code",
      "metadata": {
        "id": "23GeZ-RatYbp",
        "colab": {
          "base_uri": "https://localhost:8080/"
        },
        "outputId": "148fac4c-9913-4e36-cdb2-9083b01f685d"
      },
      "source": [
        "class_counts = dataframe['pub'].value_counts()\n",
        "class_counts"
      ],
      "execution_count": 38,
      "outputs": [
        {
          "output_type": "execute_result",
          "data": {
            "text/plain": [
              "Elsevier                       42\n",
              "Blackwell                      26\n",
              "Kluwer                         16\n",
              "Springer                       10\n",
              "Academic Press                  9\n",
              "Univ of Chicago Press           7\n",
              "Wiley                           5\n",
              "Oxford Univ Press               5\n",
              "Cambridge Univ Pres             4\n",
              "Routledge                       4\n",
              "Carfax                          3\n",
              "Am Ec Assn                      3\n",
              "Mohr Siebeck                    2\n",
              "Univ of Wisconsin Press         2\n",
              "Sage                            2\n",
              "MIT press                       2\n",
              "Oxford Univ. Press              2\n",
              "MIT                             2\n",
              "Helbing & Lichtenhahn           1\n",
              "Pop Assn America                1\n",
              "LSE and Univ of Bath            1\n",
              "Frank Cass                      1\n",
              "Population Council              1\n",
              "Heldref                         1\n",
              "Am. Finance Assn                1\n",
              "Am. Risk & Ins. Assn            1\n",
              "Intnl Atlantic Ec. Soc.         1\n",
              "Dekker                          1\n",
              "National Tax Assn.              1\n",
              "Am Stat Assn                    1\n",
              "Ec. Society of Australia        1\n",
              "Univ Wash Press                 1\n",
              "Ohio State Univ. Press          1\n",
              "Int Assn for Res in I & W       1\n",
              "George Mason Univ               1\n",
              "MIT Press                       1\n",
              "Inst for OR and MS              1\n",
              "ANU Press                       1\n",
              "Am. Statistical Assn            1\n",
              "Southern Econ. Assn             1\n",
              "Duke Univ Press                 1\n",
              "University of Toronto Press     1\n",
              "Assn Ev. Economics              1\n",
              "LSU Press                       1\n",
              "Agric. Econ. Society            1\n",
              "Georgia State Univ              1\n",
              "RAND                            1\n",
              "Brookings Inst.                 1\n",
              "Am. Ag. Econ Assn               1\n",
              "So Afr ec history assn          1\n",
              "M.E Sharpe                      1\n",
              "Inst of Devel Econ              1\n",
              "Name: pub, dtype: int64"
            ]
          },
          "metadata": {
            "tags": []
          },
          "execution_count": 38
        }
      ]
    },
    {
      "cell_type": "code",
      "metadata": {
        "id": "deTA3aSrtYeT",
        "colab": {
          "base_uri": "https://localhost:8080/",
          "height": 405
        },
        "outputId": "d941f18e-3a6d-4bb7-ef9c-93b4a2fecb34"
      },
      "source": [
        "class_counts.plot(kind='bar',stacked=True)"
      ],
      "execution_count": 39,
      "outputs": [
        {
          "output_type": "execute_result",
          "data": {
            "text/plain": [
              "<matplotlib.axes._subplots.AxesSubplot at 0x7fa56ea07ed0>"
            ]
          },
          "metadata": {
            "tags": []
          },
          "execution_count": 39
        },
        {
          "output_type": "display_data",
          "data": {
            "image/png": "[encoded data removed]",
            "text/plain": [
              "<Figure size 432x288 with 1 Axes>"
            ]
          },
          "metadata": {
            "tags": [],
            "needs_background": "light"
          }
        }
      ]
    },
    {
      "cell_type": "code",
      "metadata": {
        "id": "8ndRXdRmtYgV",
        "colab": {
          "base_uri": "https://localhost:8080/",
          "height": 540
        },
        "outputId": "ffa4ac86-14bf-4eae-cef8-1af522a6b9e6"
      },
      "source": [
        "import matplotlib.pyplot as plt\n",
        "dataframe['field'].value_counts().plot(kind='barh',figsize=(8,8),color='green')\n",
        "plt.xlabel('Count of field', labelpad=14)\n",
        "plt.ylabel('Field of journal', labelpad=14)\n",
        "plt.title('Result of of count of field in the journal dataset')"
      ],
      "execution_count": 40,
      "outputs": [
        {
          "output_type": "execute_result",
          "data": {
            "text/plain": [
              "Text(0.5, 1.0, 'Result of of count of field in the journal dataset')"
            ]
          },
          "metadata": {
            "tags": []
          },
          "execution_count": 40
        },
        {
          "output_type": "display_data",
          "data": {
            "image/png": "[encoded data removed]",
            "text/plain": [
              "<Figure size 576x576 with 1 Axes>"
            ]
          },
          "metadata": {
            "tags": [],
            "needs_background": "light"
          }
        }
      ]
    },
    {
      "cell_type": "code",
      "metadata": {
        "id": "XhZOtewgzqTE",
        "colab": {
          "base_uri": "https://localhost:8080/",
          "height": 204
        },
        "outputId": "5dbf04f7-ff33-4b2f-ed15-e0b17b7a23f6"
      },
      "source": [
        "dataframe[dataframe['pub'] == 'Elsevier'].head(5)"
      ],
      "execution_count": 41,
      "outputs": [
        {
          "output_type": "execute_result",
          "data": {
            "text/html": [
              "<div>\n",
              "<style scoped>\n",
              "    .dataframe tbody tr th:only-of-type {\n",
              "        vertical-align: middle;\n",
              "    }\n",
              "\n",
              "    .dataframe tbody tr th {\n",
              "        vertical-align: top;\n",
              "    }\n",
              "\n",
              "    .dataframe thead th {\n",
              "        text-align: right;\n",
              "    }\n",
              "</style>\n",
              "<table border=\"1\" class=\"dataframe\">\n",
              "  <thead>\n",
              "    <tr style=\"text-align: right;\">\n",
              "      <th></th>\n",
              "      <th>title</th>\n",
              "      <th>pub</th>\n",
              "      <th>society</th>\n",
              "      <th>libprice</th>\n",
              "      <th>pages</th>\n",
              "      <th>charpp</th>\n",
              "      <th>citestot</th>\n",
              "      <th>date1</th>\n",
              "      <th>oclc</th>\n",
              "      <th>field</th>\n",
              "    </tr>\n",
              "  </thead>\n",
              "  <tbody>\n",
              "    <tr>\n",
              "      <th>5</th>\n",
              "      <td>Journal of Socio-Economics</td>\n",
              "      <td>Elsevier</td>\n",
              "      <td>no</td>\n",
              "      <td>295</td>\n",
              "      <td>791</td>\n",
              "      <td>3024</td>\n",
              "      <td>24</td>\n",
              "      <td>1972</td>\n",
              "      <td>96</td>\n",
              "      <td>Interdisciplinary</td>\n",
              "    </tr>\n",
              "    <tr>\n",
              "      <th>6</th>\n",
              "      <td>Labour Economics</td>\n",
              "      <td>Elsevier</td>\n",
              "      <td>no</td>\n",
              "      <td>344</td>\n",
              "      <td>609</td>\n",
              "      <td>2967</td>\n",
              "      <td>24</td>\n",
              "      <td>1994</td>\n",
              "      <td>15</td>\n",
              "      <td>Labor</td>\n",
              "    </tr>\n",
              "    <tr>\n",
              "      <th>8</th>\n",
              "      <td>Review. of Radical Political Economics</td>\n",
              "      <td>Elsevier</td>\n",
              "      <td>no</td>\n",
              "      <td>242</td>\n",
              "      <td>665</td>\n",
              "      <td>2688</td>\n",
              "      <td>27</td>\n",
              "      <td>1968</td>\n",
              "      <td>202</td>\n",
              "      <td>Specialized</td>\n",
              "    </tr>\n",
              "    <tr>\n",
              "      <th>15</th>\n",
              "      <td>Journal of Empirical Finance</td>\n",
              "      <td>Elsevier</td>\n",
              "      <td>no</td>\n",
              "      <td>355</td>\n",
              "      <td>607</td>\n",
              "      <td>3053</td>\n",
              "      <td>37</td>\n",
              "      <td>1994</td>\n",
              "      <td>16</td>\n",
              "      <td>Finance</td>\n",
              "    </tr>\n",
              "    <tr>\n",
              "      <th>20</th>\n",
              "      <td>China Economic Review</td>\n",
              "      <td>Elsevier</td>\n",
              "      <td>no</td>\n",
              "      <td>242</td>\n",
              "      <td>167</td>\n",
              "      <td>3619</td>\n",
              "      <td>47</td>\n",
              "      <td>1989</td>\n",
              "      <td>16</td>\n",
              "      <td>Area Studies</td>\n",
              "    </tr>\n",
              "  </tbody>\n",
              "</table>\n",
              "</div>"
            ],
            "text/plain": [
              "                                     title       pub  ... oclc              field\n",
              "5               Journal of Socio-Economics  Elsevier  ...   96  Interdisciplinary\n",
              "6                         Labour Economics  Elsevier  ...   15              Labor\n",
              "8   Review. of Radical Political Economics  Elsevier  ...  202        Specialized\n",
              "15            Journal of Empirical Finance  Elsevier  ...   16            Finance\n",
              "20                   China Economic Review  Elsevier  ...   16       Area Studies\n",
              "\n",
              "[5 rows x 10 columns]"
            ]
          },
          "metadata": {
            "tags": []
          },
          "execution_count": 41
        }
      ]
    },
    {
      "cell_type": "code",
      "metadata": {
        "id": "Bip_Vj6zzqtF",
        "colab": {
          "base_uri": "https://localhost:8080/",
          "height": 266
        },
        "outputId": "cbd0f8bd-d20c-406a-b62c-2f8d28da6c6c"
      },
      "source": [
        "dataframe[(dataframe['pub'] == 'Elsevier') & (dataframe['pages'] < 500) & (dataframe['date1'] > 1950)]"
      ],
      "execution_count": 42,
      "outputs": [
        {
          "output_type": "execute_result",
          "data": {
            "text/html": [
              "<div>\n",
              "<style scoped>\n",
              "    .dataframe tbody tr th:only-of-type {\n",
              "        vertical-align: middle;\n",
              "    }\n",
              "\n",
              "    .dataframe tbody tr th {\n",
              "        vertical-align: top;\n",
              "    }\n",
              "\n",
              "    .dataframe thead th {\n",
              "        text-align: right;\n",
              "    }\n",
              "</style>\n",
              "<table border=\"1\" class=\"dataframe\">\n",
              "  <thead>\n",
              "    <tr style=\"text-align: right;\">\n",
              "      <th></th>\n",
              "      <th>title</th>\n",
              "      <th>pub</th>\n",
              "      <th>society</th>\n",
              "      <th>libprice</th>\n",
              "      <th>pages</th>\n",
              "      <th>charpp</th>\n",
              "      <th>citestot</th>\n",
              "      <th>date1</th>\n",
              "      <th>oclc</th>\n",
              "      <th>field</th>\n",
              "    </tr>\n",
              "  </thead>\n",
              "  <tbody>\n",
              "    <tr>\n",
              "      <th>20</th>\n",
              "      <td>China Economic Review</td>\n",
              "      <td>Elsevier</td>\n",
              "      <td>no</td>\n",
              "      <td>242</td>\n",
              "      <td>167</td>\n",
              "      <td>3619</td>\n",
              "      <td>47</td>\n",
              "      <td>1989</td>\n",
              "      <td>16</td>\n",
              "      <td>Area Studies</td>\n",
              "    </tr>\n",
              "    <tr>\n",
              "      <th>21</th>\n",
              "      <td>Information Economics and Policy</td>\n",
              "      <td>Elsevier</td>\n",
              "      <td>no</td>\n",
              "      <td>371</td>\n",
              "      <td>442</td>\n",
              "      <td>2924</td>\n",
              "      <td>50</td>\n",
              "      <td>1984</td>\n",
              "      <td>30</td>\n",
              "      <td>Specialized</td>\n",
              "    </tr>\n",
              "    <tr>\n",
              "      <th>54</th>\n",
              "      <td>Resource and Energy Economics</td>\n",
              "      <td>Elsevier</td>\n",
              "      <td>no</td>\n",
              "      <td>448</td>\n",
              "      <td>416</td>\n",
              "      <td>3010</td>\n",
              "      <td>122</td>\n",
              "      <td>1978</td>\n",
              "      <td>33</td>\n",
              "      <td>Natural Resources</td>\n",
              "    </tr>\n",
              "    <tr>\n",
              "      <th>63</th>\n",
              "      <td>Energy Economics</td>\n",
              "      <td>Elsevier</td>\n",
              "      <td>no</td>\n",
              "      <td>565</td>\n",
              "      <td>495</td>\n",
              "      <td>3038</td>\n",
              "      <td>143</td>\n",
              "      <td>1978</td>\n",
              "      <td>52</td>\n",
              "      <td>Natural Resources</td>\n",
              "    </tr>\n",
              "    <tr>\n",
              "      <th>82</th>\n",
              "      <td>Economics of Education Review</td>\n",
              "      <td>Elsevier</td>\n",
              "      <td>no</td>\n",
              "      <td>448</td>\n",
              "      <td>471</td>\n",
              "      <td>5040</td>\n",
              "      <td>224</td>\n",
              "      <td>1982</td>\n",
              "      <td>73</td>\n",
              "      <td>Specialized</td>\n",
              "    </tr>\n",
              "    <tr>\n",
              "      <th>88</th>\n",
              "      <td>International Journal of Forecasting</td>\n",
              "      <td>Elsevier</td>\n",
              "      <td>no</td>\n",
              "      <td>437</td>\n",
              "      <td>464</td>\n",
              "      <td>4324</td>\n",
              "      <td>249</td>\n",
              "      <td>1985</td>\n",
              "      <td>57</td>\n",
              "      <td>Specialized</td>\n",
              "    </tr>\n",
              "    <tr>\n",
              "      <th>99</th>\n",
              "      <td>Operations Research Letters</td>\n",
              "      <td>Elsevier</td>\n",
              "      <td>no</td>\n",
              "      <td>442</td>\n",
              "      <td>460</td>\n",
              "      <td>4056</td>\n",
              "      <td>338</td>\n",
              "      <td>1982</td>\n",
              "      <td>59</td>\n",
              "      <td>Management Science</td>\n",
              "    </tr>\n",
              "  </tbody>\n",
              "</table>\n",
              "</div>"
            ],
            "text/plain": [
              "                                   title       pub  ... oclc               field\n",
              "20                 China Economic Review  Elsevier  ...   16        Area Studies\n",
              "21      Information Economics and Policy  Elsevier  ...   30         Specialized\n",
              "54         Resource and Energy Economics  Elsevier  ...   33   Natural Resources\n",
              "63                      Energy Economics  Elsevier  ...   52   Natural Resources\n",
              "82         Economics of Education Review  Elsevier  ...   73         Specialized\n",
              "88  International Journal of Forecasting  Elsevier  ...   57         Specialized\n",
              "99           Operations Research Letters  Elsevier  ...   59  Management Science\n",
              "\n",
              "[7 rows x 10 columns]"
            ]
          },
          "metadata": {
            "tags": []
          },
          "execution_count": 42
        }
      ]
    },
    {
      "cell_type": "code",
      "metadata": {
        "colab": {
          "base_uri": "https://localhost:8080/",
          "height": 452
        },
        "id": "zVz8_ybqIwf0",
        "outputId": "728882b4-c949-40ee-afc2-282fa442079f"
      },
      "source": [
        "dataframe[(dataframe['society'] == 'yes') & (dataframe['libprice'] < 300) & (dataframe['citestot'] > 100)]"
      ],
      "execution_count": 43,
      "outputs": [
        {
          "output_type": "execute_result",
          "data": {
            "text/html": [
              "<div>\n",
              "<style scoped>\n",
              "    .dataframe tbody tr th:only-of-type {\n",
              "        vertical-align: middle;\n",
              "    }\n",
              "\n",
              "    .dataframe tbody tr th {\n",
              "        vertical-align: top;\n",
              "    }\n",
              "\n",
              "    .dataframe thead th {\n",
              "        text-align: right;\n",
              "    }\n",
              "</style>\n",
              "<table border=\"1\" class=\"dataframe\">\n",
              "  <thead>\n",
              "    <tr style=\"text-align: right;\">\n",
              "      <th></th>\n",
              "      <th>title</th>\n",
              "      <th>pub</th>\n",
              "      <th>society</th>\n",
              "      <th>libprice</th>\n",
              "      <th>pages</th>\n",
              "      <th>charpp</th>\n",
              "      <th>citestot</th>\n",
              "      <th>date1</th>\n",
              "      <th>oclc</th>\n",
              "      <th>field</th>\n",
              "    </tr>\n",
              "  </thead>\n",
              "  <tbody>\n",
              "    <tr>\n",
              "      <th>76</th>\n",
              "      <td>Economic Record</td>\n",
              "      <td>Ec. Society of Australia</td>\n",
              "      <td>yes</td>\n",
              "      <td>50</td>\n",
              "      <td>421</td>\n",
              "      <td>4320</td>\n",
              "      <td>188</td>\n",
              "      <td>1925</td>\n",
              "      <td>183</td>\n",
              "      <td>General</td>\n",
              "    </tr>\n",
              "    <tr>\n",
              "      <th>78</th>\n",
              "      <td>Review of Income and Wealth</td>\n",
              "      <td>Int Assn for Res in I &amp; W</td>\n",
              "      <td>yes</td>\n",
              "      <td>130</td>\n",
              "      <td>585</td>\n",
              "      <td>3312</td>\n",
              "      <td>189</td>\n",
              "      <td>1945</td>\n",
              "      <td>120</td>\n",
              "      <td>Public Finance</td>\n",
              "    </tr>\n",
              "    <tr>\n",
              "      <th>79</th>\n",
              "      <td>Journal of Risk and Insurance</td>\n",
              "      <td>Am. Risk &amp; Ins. Assn</td>\n",
              "      <td>yes</td>\n",
              "      <td>90</td>\n",
              "      <td>720</td>\n",
              "      <td>2924</td>\n",
              "      <td>193</td>\n",
              "      <td>1964</td>\n",
              "      <td>263</td>\n",
              "      <td>Insurance</td>\n",
              "    </tr>\n",
              "    <tr>\n",
              "      <th>81</th>\n",
              "      <td>Journal of Agricultural Economics</td>\n",
              "      <td>Agric. Econ. Society</td>\n",
              "      <td>yes</td>\n",
              "      <td>96</td>\n",
              "      <td>277</td>\n",
              "      <td>4218</td>\n",
              "      <td>220</td>\n",
              "      <td>1948</td>\n",
              "      <td>43</td>\n",
              "      <td>Ag Econ</td>\n",
              "    </tr>\n",
              "    <tr>\n",
              "      <th>102</th>\n",
              "      <td>Journal of Economic Issues</td>\n",
              "      <td>Assn Ev. Economics</td>\n",
              "      <td>yes</td>\n",
              "      <td>45</td>\n",
              "      <td>1003</td>\n",
              "      <td>2870</td>\n",
              "      <td>355</td>\n",
              "      <td>1967</td>\n",
              "      <td>462</td>\n",
              "      <td>Public Finance</td>\n",
              "    </tr>\n",
              "    <tr>\n",
              "      <th>126</th>\n",
              "      <td>Canadian Journal of Economics</td>\n",
              "      <td>Blackwell</td>\n",
              "      <td>yes</td>\n",
              "      <td>120</td>\n",
              "      <td>1247</td>\n",
              "      <td>2992</td>\n",
              "      <td>556</td>\n",
              "      <td>1967</td>\n",
              "      <td>305</td>\n",
              "      <td>General</td>\n",
              "    </tr>\n",
              "    <tr>\n",
              "      <th>134</th>\n",
              "      <td>Southern Economic Journal</td>\n",
              "      <td>Southern Econ. Assn</td>\n",
              "      <td>yes</td>\n",
              "      <td>97</td>\n",
              "      <td>1032</td>\n",
              "      <td>3680</td>\n",
              "      <td>646</td>\n",
              "      <td>1932</td>\n",
              "      <td>524</td>\n",
              "      <td>General</td>\n",
              "    </tr>\n",
              "    <tr>\n",
              "      <th>153</th>\n",
              "      <td>Journal of Business &amp; Economic Statistics</td>\n",
              "      <td>Am Stat Assn</td>\n",
              "      <td>yes</td>\n",
              "      <td>90</td>\n",
              "      <td>510</td>\n",
              "      <td>6360</td>\n",
              "      <td>988</td>\n",
              "      <td>1983</td>\n",
              "      <td>190</td>\n",
              "      <td>Business</td>\n",
              "    </tr>\n",
              "    <tr>\n",
              "      <th>162</th>\n",
              "      <td>Journal of Economic Literature</td>\n",
              "      <td>Am Ec Assn</td>\n",
              "      <td>yes</td>\n",
              "      <td>47</td>\n",
              "      <td>2632</td>\n",
              "      <td>3848</td>\n",
              "      <td>1530</td>\n",
              "      <td>1963</td>\n",
              "      <td>972</td>\n",
              "      <td>General</td>\n",
              "    </tr>\n",
              "    <tr>\n",
              "      <th>164</th>\n",
              "      <td>Journal of Economic Perspectives</td>\n",
              "      <td>Am Ec Assn</td>\n",
              "      <td>yes</td>\n",
              "      <td>47</td>\n",
              "      <td>940</td>\n",
              "      <td>3036</td>\n",
              "      <td>1583</td>\n",
              "      <td>1987</td>\n",
              "      <td>866</td>\n",
              "      <td>General</td>\n",
              "    </tr>\n",
              "    <tr>\n",
              "      <th>176</th>\n",
              "      <td>Journal of Finance</td>\n",
              "      <td>Am. Finance Assn</td>\n",
              "      <td>yes</td>\n",
              "      <td>226</td>\n",
              "      <td>2272</td>\n",
              "      <td>3036</td>\n",
              "      <td>3791</td>\n",
              "      <td>1945</td>\n",
              "      <td>799</td>\n",
              "      <td>Finance</td>\n",
              "    </tr>\n",
              "    <tr>\n",
              "      <th>179</th>\n",
              "      <td>Econometrica</td>\n",
              "      <td>Blackwell</td>\n",
              "      <td>yes</td>\n",
              "      <td>178</td>\n",
              "      <td>1482</td>\n",
              "      <td>2992</td>\n",
              "      <td>7943</td>\n",
              "      <td>1932</td>\n",
              "      <td>346</td>\n",
              "      <td>General</td>\n",
              "    </tr>\n",
              "    <tr>\n",
              "      <th>180</th>\n",
              "      <td>American Economic Review</td>\n",
              "      <td>Am Ec Assn</td>\n",
              "      <td>yes</td>\n",
              "      <td>47</td>\n",
              "      <td>1867</td>\n",
              "      <td>3900</td>\n",
              "      <td>8999</td>\n",
              "      <td>1911</td>\n",
              "      <td>1098</td>\n",
              "      <td>General</td>\n",
              "    </tr>\n",
              "  </tbody>\n",
              "</table>\n",
              "</div>"
            ],
            "text/plain": [
              "                                         title  ...           field\n",
              "76                             Economic Record  ...         General\n",
              "78                 Review of Income and Wealth  ...  Public Finance\n",
              "79               Journal of Risk and Insurance  ...       Insurance\n",
              "81           Journal of Agricultural Economics  ...         Ag Econ\n",
              "102                 Journal of Economic Issues  ...  Public Finance\n",
              "126              Canadian Journal of Economics  ...         General\n",
              "134                  Southern Economic Journal  ...         General\n",
              "153  Journal of Business & Economic Statistics  ...        Business\n",
              "162             Journal of Economic Literature  ...         General\n",
              "164           Journal of Economic Perspectives  ...         General\n",
              "176                         Journal of Finance  ...         Finance\n",
              "179                               Econometrica  ...         General\n",
              "180                   American Economic Review  ...         General\n",
              "\n",
              "[13 rows x 10 columns]"
            ]
          },
          "metadata": {
            "tags": []
          },
          "execution_count": 43
        }
      ]
    },
    {
      "cell_type": "code",
      "metadata": {
        "id": "flNPrwcW0uT2",
        "colab": {
          "base_uri": "https://localhost:8080/"
        },
        "outputId": "bf539070-442c-4759-d990-117de3211b0f"
      },
      "source": [
        "print('Maximum',dataframe['pages'].max())\n",
        "print('Minimum',dataframe['pages'].min())\n",
        "print('Mean',dataframe['pages'].mean())\n",
        "print('Sum',dataframe['pages'].sum())\n",
        "print('Count',dataframe['pages'].count())\n"
      ],
      "execution_count": 44,
      "outputs": [
        {
          "output_type": "stream",
          "text": [
            "Maximum 2632\n",
            "Minimum 167\n",
            "Mean 827.7444444444444\n",
            "Sum 148994\n",
            "Count 180\n"
          ],
          "name": "stdout"
        }
      ]
    },
    {
      "cell_type": "markdown",
      "metadata": {
        "id": "d9-ua8FS_qJQ"
      },
      "source": [
        "# *Lab Assignment*<br>\n",
        "นายสหชัย ธีระนันทกุล<br>\n",
        "รหัสนักศึกษา 6210110359<br>\n",
        "Section 03"
      ]
    },
    {
      "cell_type": "code",
      "metadata": {
        "id": "iULrOKZj0ub3"
      },
      "source": [
        "import pandas as pd"
      ],
      "execution_count": 45,
      "outputs": []
    },
    {
      "cell_type": "code",
      "metadata": {
        "colab": {
          "base_uri": "https://localhost:8080/",
          "height": 359
        },
        "id": "jlDyXFgTADp1",
        "outputId": "390c35f9-eabc-4583-c35d-cc58a47651e1"
      },
      "source": [
        "# ทำการสร่้าง dataset โดยให้มี 6 features ได้แก่ ชื่อ เพศ อายุ เงินเดือน เวลาการใช้งาน social media ใน1วัน และสภานภาพการแต่งงาน\n",
        "# โดยให้มีทั้งหมด 10 samples\n",
        "df = pd.DataFrame()\n",
        "df['Name'] = ['Tom','Mick','Jenny','Kim','Bell','Max','Emma','Tim','June','Tong']\n",
        "df['Gender'] = ['men','men','women','men','women','men','women','men','women','men']\n",
        "df['Age'] = [23,25,29,25,36,32,29,27,27,30]\n",
        "df['Salary'] = [20000,23000,37000,30000,55000,43000,41000,38000,42000,47000]\n",
        "df['SocialMediaUsage'] = [4.5,4.2,3.0,4.1,2.9,3.2,3.4,3.8,4.0,3.8]\n",
        "df['Marriage'] = [False,False,True,False,True,False,True,False,False,True]\n",
        "\n",
        "df"
      ],
      "execution_count": 46,
      "outputs": [
        {
          "output_type": "execute_result",
          "data": {
            "text/html": [
              "<div>\n",
              "<style scoped>\n",
              "    .dataframe tbody tr th:only-of-type {\n",
              "        vertical-align: middle;\n",
              "    }\n",
              "\n",
              "    .dataframe tbody tr th {\n",
              "        vertical-align: top;\n",
              "    }\n",
              "\n",
              "    .dataframe thead th {\n",
              "        text-align: right;\n",
              "    }\n",
              "</style>\n",
              "<table border=\"1\" class=\"dataframe\">\n",
              "  <thead>\n",
              "    <tr style=\"text-align: right;\">\n",
              "      <th></th>\n",
              "      <th>Name</th>\n",
              "      <th>Gender</th>\n",
              "      <th>Age</th>\n",
              "      <th>Salary</th>\n",
              "      <th>SocialMediaUsage</th>\n",
              "      <th>Marriage</th>\n",
              "    </tr>\n",
              "  </thead>\n",
              "  <tbody>\n",
              "    <tr>\n",
              "      <th>0</th>\n",
              "      <td>Tom</td>\n",
              "      <td>men</td>\n",
              "      <td>23</td>\n",
              "      <td>20000</td>\n",
              "      <td>4.5</td>\n",
              "      <td>False</td>\n",
              "    </tr>\n",
              "    <tr>\n",
              "      <th>1</th>\n",
              "      <td>Mick</td>\n",
              "      <td>men</td>\n",
              "      <td>25</td>\n",
              "      <td>23000</td>\n",
              "      <td>4.2</td>\n",
              "      <td>False</td>\n",
              "    </tr>\n",
              "    <tr>\n",
              "      <th>2</th>\n",
              "      <td>Jenny</td>\n",
              "      <td>women</td>\n",
              "      <td>29</td>\n",
              "      <td>37000</td>\n",
              "      <td>3.0</td>\n",
              "      <td>True</td>\n",
              "    </tr>\n",
              "    <tr>\n",
              "      <th>3</th>\n",
              "      <td>Kim</td>\n",
              "      <td>men</td>\n",
              "      <td>25</td>\n",
              "      <td>30000</td>\n",
              "      <td>4.1</td>\n",
              "      <td>False</td>\n",
              "    </tr>\n",
              "    <tr>\n",
              "      <th>4</th>\n",
              "      <td>Bell</td>\n",
              "      <td>women</td>\n",
              "      <td>36</td>\n",
              "      <td>55000</td>\n",
              "      <td>2.9</td>\n",
              "      <td>True</td>\n",
              "    </tr>\n",
              "    <tr>\n",
              "      <th>5</th>\n",
              "      <td>Max</td>\n",
              "      <td>men</td>\n",
              "      <td>32</td>\n",
              "      <td>43000</td>\n",
              "      <td>3.2</td>\n",
              "      <td>False</td>\n",
              "    </tr>\n",
              "    <tr>\n",
              "      <th>6</th>\n",
              "      <td>Emma</td>\n",
              "      <td>women</td>\n",
              "      <td>29</td>\n",
              "      <td>41000</td>\n",
              "      <td>3.4</td>\n",
              "      <td>True</td>\n",
              "    </tr>\n",
              "    <tr>\n",
              "      <th>7</th>\n",
              "      <td>Tim</td>\n",
              "      <td>men</td>\n",
              "      <td>27</td>\n",
              "      <td>38000</td>\n",
              "      <td>3.8</td>\n",
              "      <td>False</td>\n",
              "    </tr>\n",
              "    <tr>\n",
              "      <th>8</th>\n",
              "      <td>June</td>\n",
              "      <td>women</td>\n",
              "      <td>27</td>\n",
              "      <td>42000</td>\n",
              "      <td>4.0</td>\n",
              "      <td>False</td>\n",
              "    </tr>\n",
              "    <tr>\n",
              "      <th>9</th>\n",
              "      <td>Tong</td>\n",
              "      <td>men</td>\n",
              "      <td>30</td>\n",
              "      <td>47000</td>\n",
              "      <td>3.8</td>\n",
              "      <td>True</td>\n",
              "    </tr>\n",
              "  </tbody>\n",
              "</table>\n",
              "</div>"
            ],
            "text/plain": [
              "    Name Gender  Age  Salary  SocialMediaUsage  Marriage\n",
              "0    Tom    men   23   20000               4.5     False\n",
              "1   Mick    men   25   23000               4.2     False\n",
              "2  Jenny  women   29   37000               3.0      True\n",
              "3    Kim    men   25   30000               4.1     False\n",
              "4   Bell  women   36   55000               2.9      True\n",
              "5    Max    men   32   43000               3.2     False\n",
              "6   Emma  women   29   41000               3.4      True\n",
              "7    Tim    men   27   38000               3.8     False\n",
              "8   June  women   27   42000               4.0     False\n",
              "9   Tong    men   30   47000               3.8      True"
            ]
          },
          "metadata": {
            "tags": []
          },
          "execution_count": 46
        }
      ]
    },
    {
      "cell_type": "code",
      "metadata": {
        "colab": {
          "base_uri": "https://localhost:8080/"
        },
        "id": "JZUHne2FEu0L",
        "outputId": "4ae50c74-8bb4-4a0e-88e5-62483e581b14"
      },
      "source": [
        "\"\"\"\n",
        "ในส่วนนี้เป็นการแสกงค่าต่างๆในเชิงสถิติ ได้แก่\n",
        "- เงินเดือนสูงสุดของประชากรกลุ่มนี้่คือ 55000\n",
        "- เงินเดือนต่ำสุดของประชากรกลุ่มนี้คือ 20000\n",
        "- เงินเดือนเฉลี่ยของประชากรกลุ่มนี้่คือ 37600\n",
        "- ชั่วโมงการใช้งาน social media ของประชากรกลุ่มนี้เป็นประมาณ 3.69 ชั่งโมงต่อวัน\n",
        "- อายุเฉลี่ยของประชากรกลุ่มนี้คือ 28 ปี\n",
        "\"\"\" \n",
        "print('Maximum salary:',df['Salary'].max())\n",
        "print('Minimun salary:',df['Salary'].min())\n",
        "print('Average salary:',df['Salary'].mean())\n",
        "print(f\"Average social media usage: {df['SocialMediaUsage'].mean():.2f} (hr)\")\n",
        "print('Average age:',int(df['Age'].mean()))"
      ],
      "execution_count": 47,
      "outputs": [
        {
          "output_type": "stream",
          "text": [
            "Maximum salary: 55000\n",
            "Minimun salary: 20000\n",
            "Average salary: 37600.0\n",
            "Average social media usage: 3.69 (hr)\n",
            "Average age: 28\n"
          ],
          "name": "stdout"
        }
      ]
    },
    {
      "cell_type": "code",
      "metadata": {
        "colab": {
          "base_uri": "https://localhost:8080/"
        },
        "id": "pmzt7ZIMFmRU",
        "outputId": "b1bfeb2b-c165-4cbd-c2d6-8c1886db90b7"
      },
      "source": [
        "# ประชากรกลุ่มนี้ประกอบไปด้วยผู้ชาย 6 คนและผู้หญิง 4 คน\n",
        "print(df['Gender'].value_counts())"
      ],
      "execution_count": 48,
      "outputs": [
        {
          "output_type": "stream",
          "text": [
            "men      6\n",
            "women    4\n",
            "Name: Gender, dtype: int64\n"
          ],
          "name": "stdout"
        }
      ]
    },
    {
      "cell_type": "code",
      "metadata": {
        "colab": {
          "base_uri": "https://localhost:8080/"
        },
        "id": "d127aDPY2WBh",
        "outputId": "4c15a43c-ffd2-4311-ad3f-4336eb3a6063"
      },
      "source": [
        "# ประชากรกลุ่มนี้มีคนที่ยังไม่แต่งงานทั้งหมด 6 คน และแต่งงานแล้วอีก 4 คน\n",
        "print(df['Marriage'].value_counts())"
      ],
      "execution_count": 49,
      "outputs": [
        {
          "output_type": "stream",
          "text": [
            "False    6\n",
            "True     4\n",
            "Name: Marriage, dtype: int64\n"
          ],
          "name": "stdout"
        }
      ]
    },
    {
      "cell_type": "code",
      "metadata": {
        "colab": {
          "base_uri": "https://localhost:8080/",
          "height": 415
        },
        "id": "yhfvJY70YBK3",
        "outputId": "448f21a0-56cb-4994-8111-2add0a335496"
      },
      "source": [
        "# กราฟที่ 1\n",
        "# เป็นกราฟที่เปรียบเทียบเวลาการใช้งาน social media ใน 1 วันของผู้ชายและผู้หญิง\n",
        "# โดยผลที่ได้คือ โดยเฉลี่ยแล้วผู้ชายจะมีการใช้งาน social media มากกว่าผู้หญิง\n",
        "import matplotlib.pyplot as plt\n",
        "plt.figure(figsize=(6,6))\n",
        "women = df.loc[df['Gender'] == 'women']\n",
        "men = df.loc[df['Gender'] == 'men']\n",
        "avgSocialWomen = women['SocialMediaUsage'].mean()\n",
        "avgSocialMen = men['SocialMediaUsage'].mean()\n",
        "plt.bar(men['Gender'],avgSocialMen)\n",
        "plt.bar(women['Gender'],avgSocialWomen)\n",
        "plt.ylabel('Social media usage(hr)',labelpad=14)\n",
        "plt.xlabel('Gender',labelpad=14)"
      ],
      "execution_count": 50,
      "outputs": [
        {
          "output_type": "execute_result",
          "data": {
            "text/plain": [
              "Text(0.5, 0, 'Gender')"
            ]
          },
          "metadata": {
            "tags": []
          },
          "execution_count": 50
        },
        {
          "output_type": "display_data",
          "data": {
            "image/png": "[encoded data removed]",
            "text/plain": [
              "<Figure size 432x432 with 1 Axes>"
            ]
          },
          "metadata": {
            "tags": [],
            "needs_background": "light"
          }
        }
      ]
    },
    {
      "cell_type": "code",
      "metadata": {
        "colab": {
          "base_uri": "https://localhost:8080/",
          "height": 415
        },
        "id": "Iy5FPu6laInr",
        "outputId": "b495d535-f370-4a34-cc7f-e9b0dac0b7b4"
      },
      "source": [
        "# กราฟที่ 2\n",
        "# แสดงค่าเวลาการใช้งาน social media ของแต่ละคน\n",
        "# พบว่าคนที่มีการใช้งาน social media มากที่สุดคือ Tom และน้อยที่สุดคือ Bell\n",
        "plt.figure(figsize=(6,6))\n",
        "soSort = df.sort_values(['SocialMediaUsage'],ascending=False)\n",
        "# print(soSort)\n",
        "x = soSort['Name']\n",
        "y = soSort['SocialMediaUsage']\n",
        "plt.barh(x,y,height=0.5)\n",
        "plt.xlabel('Social media usage(hr)',labelpad=14)\n",
        "plt.ylabel('Name',labelpad=14)"
      ],
      "execution_count": 51,
      "outputs": [
        {
          "output_type": "execute_result",
          "data": {
            "text/plain": [
              "Text(0, 0.5, 'Name')"
            ]
          },
          "metadata": {
            "tags": []
          },
          "execution_count": 51
        },
        {
          "output_type": "display_data",
          "data": {
            "image/png": "[encoded data removed]",
            "text/plain": [
              "<Figure size 432x432 with 1 Axes>"
            ]
          },
          "metadata": {
            "tags": [],
            "needs_background": "light"
          }
        }
      ]
    },
    {
      "cell_type": "code",
      "metadata": {
        "colab": {
          "base_uri": "https://localhost:8080/",
          "height": 415
        },
        "id": "F0Eg94HEFzFS",
        "outputId": "28440a51-57ae-4420-a23a-5373a097b9e7"
      },
      "source": [
        "# กราฟที่ 3\n",
        "# แสดงความสัมพันธ์ระหว่างเงินเดือนและอายุ\n",
        "# พบว่าแนวโน้มจำนวนเงินเดือนเพิ่มขึ้นเมื่อมีอายุมากขึ้น\n",
        "import matplotlib.pyplot as plt\n",
        "plt.figure(figsize=(6,6))\n",
        "x = df['Age']\n",
        "y = df['Salary']\n",
        "plt.scatter(x,y)\n",
        "plt.xlabel('age',labelpad=14)\n",
        "plt.ylabel('salary',labelpad=14)"
      ],
      "execution_count": 52,
      "outputs": [
        {
          "output_type": "execute_result",
          "data": {
            "text/plain": [
              "Text(0, 0.5, 'salary')"
            ]
          },
          "metadata": {
            "tags": []
          },
          "execution_count": 52
        },
        {
          "output_type": "display_data",
          "data": {
            "image/png": "[encoded data removed]",
            "text/plain": [
              "<Figure size 432x432 with 1 Axes>"
            ]
          },
          "metadata": {
            "tags": [],
            "needs_background": "light"
          }
        }
      ]
    },
    {
      "cell_type": "code",
      "metadata": {
        "colab": {
          "base_uri": "https://localhost:8080/",
          "height": 415
        },
        "id": "H2xzK_x60-PH",
        "outputId": "d498c7ae-94d6-4125-858d-9d149bc12de7"
      },
      "source": [
        "# กราฟที่ 4\n",
        "# แสดงความสัมพันธ์ระหว่างชั่วโมงการใช้งาน social media กับอายุ\n",
        "# โดยเปรียบเทียบระหว่างคนที่ยังไม่แต่งงานกับคนที่แต่งงานแล้ว\n",
        "# พบว่าคนทั้งสองกลุ่มจะมีการใช้งาน social media ลดลงเมื่อมีอายุมากขึ้น\n",
        "# และกลุ่มคนที่ยังไม่่แต่งงานส่วนใหญ่จะมีการใช้งาน social media มากกว่าคนที่แต่งงานแล้ว\n",
        "plt.figure(figsize=(6,6))\n",
        "maF = df.loc[df['Marriage'] == False]\n",
        "maT = df.loc[df['Marriage'] == True]\n",
        "# print(maF)\n",
        "x1 = maF['Age']\n",
        "y1 = maF['SocialMediaUsage'] \n",
        "x2 = maT['Age']\n",
        "y2 = maT['SocialMediaUsage']\n",
        "plt.scatter(x1,y1,label=\"not marriage\")\n",
        "plt.scatter(x2,y2,label='marriage')\n",
        "plt.legend(fontsize=12)\n",
        "plt.xlabel('Age',labelpad=14)\n",
        "plt.ylabel('Social media usage(hr)',labelpad=14)\n"
      ],
      "execution_count": 53,
      "outputs": [
        {
          "output_type": "execute_result",
          "data": {
            "text/plain": [
              "Text(0, 0.5, 'Social media usage(hr)')"
            ]
          },
          "metadata": {
            "tags": []
          },
          "execution_count": 53
        },
        {
          "output_type": "display_data",
          "data": {
            "image/png": "[encoded data removed]",
            "text/plain": [
              "<Figure size 432x432 with 1 Axes>"
            ]
          },
          "metadata": {
            "tags": [],
            "needs_background": "light"
          }
        }
      ]
    }
  ]
}